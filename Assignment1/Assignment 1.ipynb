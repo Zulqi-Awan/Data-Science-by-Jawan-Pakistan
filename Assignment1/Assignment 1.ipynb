{
 "cells": [
  {
   "cell_type": "markdown",
   "id": "3a02e525",
   "metadata": {},
   "source": [
    "# Jawan Pakistan Data Science Course\n"
   ]
  },
  {
   "cell_type": "markdown",
   "id": "2e311086",
   "metadata": {},
   "source": [
    "# Assignment 1"
   ]
  },
  {
   "cell_type": "markdown",
   "id": "49384e73",
   "metadata": {},
   "source": [
    "Question-1:\n",
    "Write a Python Program to print the following string in a specific format."
   ]
  },
  {
   "cell_type": "code",
   "execution_count": 13,
   "id": "5152a0ac",
   "metadata": {},
   "outputs": [
    {
     "name": "stdout",
     "output_type": "stream",
     "text": [
      "Twinkle, twinkle, little star,\n",
      "        How I wonder what you are!\n",
      "                Up above the world so high,\n",
      "                Like a diamond in the sky.\n",
      "Twinkle, twinkle, little star,\n",
      "        How I wonder what you are\n"
     ]
    }
   ],
   "source": [
    "print(\"\"\"Twinkle, twinkle, little star,\n",
    "        How I wonder what you are!\n",
    "                Up above the world so high,\n",
    "                Like a diamond in the sky.\n",
    "Twinkle, twinkle, little star,\n",
    "        How I wonder what you are\"\"\")"
   ]
  },
  {
   "cell_type": "markdown",
   "id": "d76e29a1",
   "metadata": {},
   "source": [
    "Question-2:\n",
    "Write a Python program to get the Python version you are using."
   ]
  },
  {
   "cell_type": "code",
   "execution_count": 14,
   "id": "7efbdca7",
   "metadata": {},
   "outputs": [
    {
     "name": "stdout",
     "output_type": "stream",
     "text": [
      "Python version:\n",
      "3.6.13 | packaged by conda-forge | (default, Sep 23 2021, 07:56:31) \n",
      "[GCC 9.4.0]\n"
     ]
    }
   ],
   "source": [
    "import sys\n",
    "\n",
    "print(\"Python version:\")\n",
    "print(sys.version)"
   ]
  },
  {
   "cell_type": "markdown",
   "id": "fa31a395",
   "metadata": {},
   "source": [
    "Question-3:\n",
    "Write a Python program to display the current data and time."
   ]
  },
  {
   "cell_type": "code",
   "execution_count": 15,
   "id": "12573389",
   "metadata": {},
   "outputs": [
    {
     "name": "stdout",
     "output_type": "stream",
     "text": [
      "Current date and time:\n",
      "2021-12-29 17:33:49.863466\n"
     ]
    }
   ],
   "source": [
    "from datetime import datetime\n",
    "\n",
    "now = datetime.now()\n",
    "\n",
    "print(\"Current date and time:\")\n",
    "print(now)"
   ]
  },
  {
   "cell_type": "markdown",
   "id": "80f80a24",
   "metadata": {},
   "source": [
    "Question-4:\n",
    "Write a Python program which accepts the radius of a circle from the user and compute the area."
   ]
  },
  {
   "cell_type": "code",
   "execution_count": 16,
   "id": "9fa711be",
   "metadata": {},
   "outputs": [
    {
     "name": "stdout",
     "output_type": "stream",
     "text": [
      "Enter the radius of the circle:5\n",
      "Area of circle: 157.0\n"
     ]
    }
   ],
   "source": [
    "r = float(input(\"Enter the radius of the circle:\"))\n",
    "\n",
    "pi = 3.14\n",
    "\n",
    "area = 2*pi*r**2\n",
    "\n",
    "print(\"Area of circle:\", area)"
   ]
  },
  {
   "cell_type": "markdown",
   "id": "ca1d22fc",
   "metadata": {},
   "source": [
    "Question-5:\n",
    "Write a Python program which accepts the user's first and last name and print them in reverse order with a space between them."
   ]
  },
  {
   "cell_type": "code",
   "execution_count": 11,
   "id": "27f85bba",
   "metadata": {},
   "outputs": [
    {
     "name": "stdout",
     "output_type": "stream",
     "text": [
      "Enter first name:Zulqarnain\n",
      "Enter last name:Awan\n",
      "Awan Zulqarnain\n"
     ]
    }
   ],
   "source": [
    "f_name = input(\"Enter first name:\")\n",
    "l_name = input(\"Enter last name:\")\n",
    "\n",
    "rev_ord = l_name+\" \"+f_name\n",
    "\n",
    "print(rev_ord)"
   ]
  },
  {
   "cell_type": "markdown",
   "id": "03a4200c",
   "metadata": {},
   "source": [
    "Question-6:\n",
    "Write a Python Program which takes two inputs from the user and print them addition."
   ]
  },
  {
   "cell_type": "code",
   "execution_count": 12,
   "id": "8fb00333",
   "metadata": {},
   "outputs": [
    {
     "name": "stdout",
     "output_type": "stream",
     "text": [
      "Enter the first number:2\n",
      "Enter the second number:3\n",
      "Addition of 2 and 3 : 5\n"
     ]
    }
   ],
   "source": [
    "num_1 = int(input(\"Enter the first number:\"))\n",
    "num_2 = int(input(\"Enter the second number:\"))\n",
    "\n",
    "add = num_1 + num_2\n",
    "\n",
    "print(\"Addition of\",num_1,\"and\",num_2,\":\",add)"
   ]
  },
  {
   "cell_type": "code",
   "execution_count": null,
   "id": "b05cf9e1",
   "metadata": {},
   "outputs": [],
   "source": []
  }
 ],
 "metadata": {
  "kernelspec": {
   "display_name": "Python 3",
   "language": "python",
   "name": "python3"
  },
  "language_info": {
   "codemirror_mode": {
    "name": "ipython",
    "version": 3
   },
   "file_extension": ".py",
   "mimetype": "text/x-python",
   "name": "python",
   "nbconvert_exporter": "python",
   "pygments_lexer": "ipython3",
   "version": "3.6.13"
  }
 },
 "nbformat": 4,
 "nbformat_minor": 5
}
